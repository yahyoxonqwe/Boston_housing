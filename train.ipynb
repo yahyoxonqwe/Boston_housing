{
 "cells": [
  {
   "cell_type": "code",
   "execution_count": 1,
   "id": "47dc9fe3",
   "metadata": {},
   "outputs": [],
   "source": [
    "from tensorflow import keras\n",
    "from sklearn.metrics import r2_score\n",
    "import numpy as np"
   ]
  },
  {
   "cell_type": "code",
   "execution_count": 2,
   "id": "5d041e61",
   "metadata": {},
   "outputs": [],
   "source": [
    "np.random.seed(42)\n",
    "(train_x , train_y) , (test_x , test_y) = keras.datasets.boston_housing.load_data()"
   ]
  },
  {
   "cell_type": "code",
   "execution_count": 3,
   "id": "1a0d1e63",
   "metadata": {},
   "outputs": [],
   "source": [
    "mean = train_x.mean(axis = 0)\n",
    "std = train_x.std(axis = 0)\n",
    "train_x = (train_x - mean) / std\n",
    "test_x = (test_x - mean) / std"
   ]
  },
  {
   "cell_type": "code",
   "execution_count": 4,
   "id": "f527fbac",
   "metadata": {},
   "outputs": [
    {
     "name": "stdout",
     "output_type": "stream",
     "text": [
      "[-0.27224633 -0.48361547 -0.43576161 -0.25683275 -0.1652266  -0.1764426\n",
      "  0.81306188  0.1166983  -0.62624905 -0.59517003  1.14850044  0.44807713\n",
      "  0.8252202 ]\n"
     ]
    }
   ],
   "source": [
    "print(train_x[0])"
   ]
  },
  {
   "cell_type": "markdown",
   "id": "b0c8bb78",
   "metadata": {},
   "source": [
    "# Train"
   ]
  },
  {
   "cell_type": "code",
   "execution_count": 5,
   "id": "7adbcfb7",
   "metadata": {},
   "outputs": [],
   "source": [
    "model = keras.models.Sequential([\n",
    "    keras.layers.Dense(100 , activation='relu' , input_shape = (train_x.shape[1],)),\n",
    "    keras.layers.BatchNormalization(),\n",
    "    keras.layers.Dropout(0.1),\n",
    "    \n",
    "    keras.layers.Dense(20 , activation='relu' ),\n",
    "    keras.layers.BatchNormalization(),\n",
    "    keras.layers.Dropout(0.1),\n",
    "\n",
    "    \n",
    "    keras.layers.Dense(1)\n",
    "])\n",
    "model.compile(optimizer='adam' , loss='mse')"
   ]
  },
  {
   "cell_type": "code",
   "execution_count": 6,
   "id": "a594cba5",
   "metadata": {},
   "outputs": [
    {
     "name": "stdout",
     "output_type": "stream",
     "text": [
      "Epoch 1/100\n",
      "13/13 [==============================] - 1s 2ms/step - loss: 577.2908\n",
      "Epoch 2/100\n",
      "13/13 [==============================] - 0s 2ms/step - loss: 559.7842\n",
      "Epoch 3/100\n",
      "13/13 [==============================] - 0s 2ms/step - loss: 544.8940\n",
      "Epoch 4/100\n",
      "13/13 [==============================] - 0s 2ms/step - loss: 534.9210\n",
      "Epoch 5/100\n",
      "13/13 [==============================] - 0s 2ms/step - loss: 523.1525\n",
      "Epoch 6/100\n",
      "13/13 [==============================] - 0s 2ms/step - loss: 514.4711\n",
      "Epoch 7/100\n",
      "13/13 [==============================] - 0s 2ms/step - loss: 504.7234\n",
      "Epoch 8/100\n",
      "13/13 [==============================] - 0s 2ms/step - loss: 497.2637\n",
      "Epoch 9/100\n",
      "13/13 [==============================] - 0s 2ms/step - loss: 491.0755\n",
      "Epoch 10/100\n",
      "13/13 [==============================] - 0s 2ms/step - loss: 482.5100\n",
      "Epoch 11/100\n",
      "13/13 [==============================] - 0s 2ms/step - loss: 470.9947\n",
      "Epoch 12/100\n",
      "13/13 [==============================] - 0s 2ms/step - loss: 461.0950\n",
      "Epoch 13/100\n",
      "13/13 [==============================] - 0s 2ms/step - loss: 455.6574\n",
      "Epoch 14/100\n",
      "13/13 [==============================] - 0s 2ms/step - loss: 444.1603\n",
      "Epoch 15/100\n",
      "13/13 [==============================] - 0s 2ms/step - loss: 436.7119\n",
      "Epoch 16/100\n",
      "13/13 [==============================] - 0s 2ms/step - loss: 429.9473\n",
      "Epoch 17/100\n",
      "13/13 [==============================] - 0s 2ms/step - loss: 419.9294\n",
      "Epoch 18/100\n",
      "13/13 [==============================] - 0s 2ms/step - loss: 411.9900\n",
      "Epoch 19/100\n",
      "13/13 [==============================] - 0s 2ms/step - loss: 398.3941\n",
      "Epoch 20/100\n",
      "13/13 [==============================] - 0s 2ms/step - loss: 383.9913\n",
      "Epoch 21/100\n",
      "13/13 [==============================] - 0s 2ms/step - loss: 381.3902\n",
      "Epoch 22/100\n",
      "13/13 [==============================] - 0s 2ms/step - loss: 363.5796\n",
      "Epoch 23/100\n",
      "13/13 [==============================] - 0s 2ms/step - loss: 357.4916\n",
      "Epoch 24/100\n",
      "13/13 [==============================] - 0s 1ms/step - loss: 348.7335\n",
      "Epoch 25/100\n",
      "13/13 [==============================] - 0s 2ms/step - loss: 339.2749\n",
      "Epoch 26/100\n",
      "13/13 [==============================] - 0s 2ms/step - loss: 323.2929\n",
      "Epoch 27/100\n",
      "13/13 [==============================] - 0s 2ms/step - loss: 316.3530\n",
      "Epoch 28/100\n",
      "13/13 [==============================] - 0s 2ms/step - loss: 303.9648\n",
      "Epoch 29/100\n",
      "13/13 [==============================] - 0s 2ms/step - loss: 284.0653\n",
      "Epoch 30/100\n",
      "13/13 [==============================] - 0s 2ms/step - loss: 279.4726\n",
      "Epoch 31/100\n",
      "13/13 [==============================] - 0s 2ms/step - loss: 271.1935\n",
      "Epoch 32/100\n",
      "13/13 [==============================] - 0s 1ms/step - loss: 255.1274\n",
      "Epoch 33/100\n",
      "13/13 [==============================] - 0s 2ms/step - loss: 246.9489\n",
      "Epoch 34/100\n",
      "13/13 [==============================] - 0s 2ms/step - loss: 231.3489\n",
      "Epoch 35/100\n",
      "13/13 [==============================] - 0s 1ms/step - loss: 219.2639\n",
      "Epoch 36/100\n",
      "13/13 [==============================] - 0s 2ms/step - loss: 208.6646\n",
      "Epoch 37/100\n",
      "13/13 [==============================] - 0s 2ms/step - loss: 200.3440\n",
      "Epoch 38/100\n",
      "13/13 [==============================] - 0s 2ms/step - loss: 186.9863\n",
      "Epoch 39/100\n",
      "13/13 [==============================] - 0s 1ms/step - loss: 177.4055\n",
      "Epoch 40/100\n",
      "13/13 [==============================] - 0s 2ms/step - loss: 171.7972\n",
      "Epoch 41/100\n",
      "13/13 [==============================] - 0s 2ms/step - loss: 162.1174\n",
      "Epoch 42/100\n",
      "13/13 [==============================] - 0s 1ms/step - loss: 144.3424\n",
      "Epoch 43/100\n",
      "13/13 [==============================] - 0s 2ms/step - loss: 139.1011\n",
      "Epoch 44/100\n",
      "13/13 [==============================] - 0s 2ms/step - loss: 130.9752\n",
      "Epoch 45/100\n",
      "13/13 [==============================] - 0s 2ms/step - loss: 125.3818\n",
      "Epoch 46/100\n",
      "13/13 [==============================] - 0s 2ms/step - loss: 107.8873\n",
      "Epoch 47/100\n",
      "13/13 [==============================] - 0s 2ms/step - loss: 103.1019\n",
      "Epoch 48/100\n",
      "13/13 [==============================] - 0s 2ms/step - loss: 94.4109\n",
      "Epoch 49/100\n",
      "13/13 [==============================] - 0s 2ms/step - loss: 89.3168\n",
      "Epoch 50/100\n",
      "13/13 [==============================] - 0s 2ms/step - loss: 81.5822\n",
      "Epoch 51/100\n",
      "13/13 [==============================] - 0s 2ms/step - loss: 76.6713\n",
      "Epoch 52/100\n",
      "13/13 [==============================] - 0s 2ms/step - loss: 74.0765\n",
      "Epoch 53/100\n",
      "13/13 [==============================] - 0s 2ms/step - loss: 62.7053\n",
      "Epoch 54/100\n",
      "13/13 [==============================] - 0s 2ms/step - loss: 61.6068\n",
      "Epoch 55/100\n",
      "13/13 [==============================] - 0s 1ms/step - loss: 55.7377\n",
      "Epoch 56/100\n",
      "13/13 [==============================] - 0s 1ms/step - loss: 47.5774\n",
      "Epoch 57/100\n",
      "13/13 [==============================] - 0s 1ms/step - loss: 48.6877\n",
      "Epoch 58/100\n",
      "13/13 [==============================] - 0s 1ms/step - loss: 42.0159\n",
      "Epoch 59/100\n",
      "13/13 [==============================] - 0s 1ms/step - loss: 40.5535\n",
      "Epoch 60/100\n",
      "13/13 [==============================] - 0s 1ms/step - loss: 36.1862\n",
      "Epoch 61/100\n",
      "13/13 [==============================] - 0s 1ms/step - loss: 32.3132\n",
      "Epoch 62/100\n",
      "13/13 [==============================] - 0s 1ms/step - loss: 30.1024\n",
      "Epoch 63/100\n",
      "13/13 [==============================] - 0s 1ms/step - loss: 30.3058\n",
      "Epoch 64/100\n",
      "13/13 [==============================] - 0s 1ms/step - loss: 28.4153\n",
      "Epoch 65/100\n",
      "13/13 [==============================] - 0s 1ms/step - loss: 26.1343\n",
      "Epoch 66/100\n",
      "13/13 [==============================] - 0s 1ms/step - loss: 22.2323\n",
      "Epoch 67/100\n",
      "13/13 [==============================] - 0s 1ms/step - loss: 21.2245\n",
      "Epoch 68/100\n",
      "13/13 [==============================] - 0s 1ms/step - loss: 18.5868\n",
      "Epoch 69/100\n",
      "13/13 [==============================] - 0s 1ms/step - loss: 21.2382\n",
      "Epoch 70/100\n",
      "13/13 [==============================] - 0s 1ms/step - loss: 22.0098\n",
      "Epoch 71/100\n",
      "13/13 [==============================] - 0s 1ms/step - loss: 21.2495\n",
      "Epoch 72/100\n",
      "13/13 [==============================] - 0s 1ms/step - loss: 21.1209\n",
      "Epoch 73/100\n",
      "13/13 [==============================] - 0s 1ms/step - loss: 16.1225\n",
      "Epoch 74/100\n",
      "13/13 [==============================] - 0s 1ms/step - loss: 18.2296\n",
      "Epoch 75/100\n",
      "13/13 [==============================] - 0s 1ms/step - loss: 17.0621\n",
      "Epoch 76/100\n",
      "13/13 [==============================] - 0s 1ms/step - loss: 16.5073\n",
      "Epoch 77/100\n",
      "13/13 [==============================] - 0s 1ms/step - loss: 14.9194\n",
      "Epoch 78/100\n",
      "13/13 [==============================] - 0s 1ms/step - loss: 17.3507\n",
      "Epoch 79/100\n",
      "13/13 [==============================] - 0s 1ms/step - loss: 13.3256\n",
      "Epoch 80/100\n",
      "13/13 [==============================] - 0s 1ms/step - loss: 15.0544\n",
      "Epoch 81/100\n",
      "13/13 [==============================] - 0s 1ms/step - loss: 13.2333\n",
      "Epoch 82/100\n",
      "13/13 [==============================] - 0s 1ms/step - loss: 14.1485\n",
      "Epoch 83/100\n",
      "13/13 [==============================] - 0s 1ms/step - loss: 12.1352\n",
      "Epoch 84/100\n",
      "13/13 [==============================] - 0s 1ms/step - loss: 12.7930\n",
      "Epoch 85/100\n",
      "13/13 [==============================] - 0s 1ms/step - loss: 14.6717\n",
      "Epoch 86/100\n",
      "13/13 [==============================] - 0s 1ms/step - loss: 17.0008\n",
      "Epoch 87/100\n",
      "13/13 [==============================] - 0s 1ms/step - loss: 12.4761\n",
      "Epoch 88/100\n",
      "13/13 [==============================] - 0s 1ms/step - loss: 12.3214\n",
      "Epoch 89/100\n",
      "13/13 [==============================] - 0s 1ms/step - loss: 13.9473\n",
      "Epoch 90/100\n",
      "13/13 [==============================] - 0s 1ms/step - loss: 13.2394\n",
      "Epoch 91/100\n",
      "13/13 [==============================] - 0s 1ms/step - loss: 12.2592\n",
      "Epoch 92/100\n",
      "13/13 [==============================] - 0s 1ms/step - loss: 13.5375\n",
      "Epoch 93/100\n",
      "13/13 [==============================] - 0s 1ms/step - loss: 12.0023\n",
      "Epoch 94/100\n",
      "13/13 [==============================] - 0s 1ms/step - loss: 14.7004\n",
      "Epoch 95/100\n",
      "13/13 [==============================] - 0s 1ms/step - loss: 11.9936\n",
      "Epoch 96/100\n",
      "13/13 [==============================] - 0s 2ms/step - loss: 12.3775\n",
      "Epoch 97/100\n",
      "13/13 [==============================] - 0s 1ms/step - loss: 13.0293\n",
      "Epoch 98/100\n",
      "13/13 [==============================] - 0s 1ms/step - loss: 14.2106\n",
      "Epoch 99/100\n",
      "13/13 [==============================] - 0s 1ms/step - loss: 12.5818\n",
      "Epoch 100/100\n"
     ]
    },
    {
     "name": "stdout",
     "output_type": "stream",
     "text": [
      " 1/13 [=>............................] - ETA: 0s - loss: 13.3351\b\b\b\b\b\b\b\b\b\b\b\b\b\b\b\b\b\b\b\b\b\b\b\b\b\b\b\b\b\b\b\b\b\b\b\b\b\b\b\b\b\b\b\b\b\b\b\b\b\b\b\b\b\b\b\b\b\b\b\b\b\b\b\b\r",
      "13/13 [==============================] - 0s 2ms/step - loss: 13.3222\n"
     ]
    },
    {
     "data": {
      "text/plain": [
       "<keras.callbacks.History at 0x21efb467b20>"
      ]
     },
     "execution_count": 6,
     "metadata": {},
     "output_type": "execute_result"
    }
   ],
   "source": [
    "model.fit(train_x , train_y, epochs=100 )"
   ]
  },
  {
   "cell_type": "markdown",
   "id": "5909fbdb",
   "metadata": {},
   "source": [
    "# Predict"
   ]
  },
  {
   "cell_type": "code",
   "execution_count": 7,
   "id": "1296aa8b",
   "metadata": {},
   "outputs": [
    {
     "name": "stdout",
     "output_type": "stream",
     "text": [
      "4/4 [==============================] - 0s 2ms/step - loss: 13.8021\n"
     ]
    },
    {
     "data": {
      "text/plain": [
       "13.802138328552246"
      ]
     },
     "execution_count": 7,
     "metadata": {},
     "output_type": "execute_result"
    }
   ],
   "source": [
    "model.evaluate(test_x,test_y)"
   ]
  },
  {
   "cell_type": "code",
   "execution_count": 8,
   "id": "22fad7d4",
   "metadata": {},
   "outputs": [
    {
     "name": "stdout",
     "output_type": "stream",
     "text": [
      "4/4 [==============================] - 0s 1ms/step\n",
      "0.8030635428005668\n"
     ]
    }
   ],
   "source": [
    "y_pred = model.predict(test_x)\n",
    "print(r2_score(y_pred , test_y))"
   ]
  },
  {
   "cell_type": "code",
   "execution_count": 9,
   "id": "5ae75c40",
   "metadata": {},
   "outputs": [],
   "source": [
    "model.save('boston_housing_model.h5')"
   ]
  },
  {
   "cell_type": "code",
   "execution_count": 10,
   "id": "9bd0ee3e",
   "metadata": {},
   "outputs": [
    {
     "name": "stdout",
     "output_type": "stream",
     "text": [
      "Model: \"sequential\"\n",
      "_________________________________________________________________\n",
      " Layer (type)                Output Shape              Param #   \n",
      "=================================================================\n",
      " dense (Dense)               (None, 100)               1400      \n",
      "                                                                 \n",
      " batch_normalization (BatchN  (None, 100)              400       \n",
      " ormalization)                                                   \n",
      "                                                                 \n",
      " dropout (Dropout)           (None, 100)               0         \n",
      "                                                                 \n",
      " dense_1 (Dense)             (None, 20)                2020      \n",
      "                                                                 \n",
      " batch_normalization_1 (Batc  (None, 20)               80        \n",
      " hNormalization)                                                 \n",
      "                                                                 \n",
      " dropout_1 (Dropout)         (None, 20)                0         \n",
      "                                                                 \n",
      " dense_2 (Dense)             (None, 1)                 21        \n",
      "                                                                 \n",
      "=================================================================\n",
      "Total params: 3,921\n",
      "Trainable params: 3,681\n",
      "Non-trainable params: 240\n",
      "_________________________________________________________________\n"
     ]
    }
   ],
   "source": [
    "model.summary()"
   ]
  },
  {
   "cell_type": "markdown",
   "id": "3c8d127d",
   "metadata": {},
   "source": [
    "# Load model"
   ]
  },
  {
   "cell_type": "code",
   "execution_count": 11,
   "id": "2358aaa0",
   "metadata": {},
   "outputs": [],
   "source": [
    "model = keras.models.load_model('boston_housing_model.h5')"
   ]
  },
  {
   "cell_type": "code",
   "execution_count": 12,
   "id": "0745bcd1",
   "metadata": {},
   "outputs": [
    {
     "name": "stdout",
     "output_type": "stream",
     "text": [
      "4/4 [==============================] - 0s 1ms/step\n",
      "0.8030635428005668\n"
     ]
    }
   ],
   "source": [
    "y_pred = model.predict(test_x)\n",
    "print(r2_score(y_pred , test_y))"
   ]
  }
 ],
 "metadata": {
  "kernelspec": {
   "display_name": "Python 3 (ipykernel)",
   "language": "python",
   "name": "python3"
  },
  "language_info": {
   "codemirror_mode": {
    "name": "ipython",
    "version": 3
   },
   "file_extension": ".py",
   "mimetype": "text/x-python",
   "name": "python",
   "nbconvert_exporter": "python",
   "pygments_lexer": "ipython3",
   "version": "3.9.9"
  }
 },
 "nbformat": 4,
 "nbformat_minor": 5
}
