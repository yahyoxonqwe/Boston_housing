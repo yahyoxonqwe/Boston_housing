{
 "cells": [
  {
   "cell_type": "code",
   "execution_count": 1,
   "id": "47dc9fe3",
   "metadata": {},
   "outputs": [],
   "source": [
    "from tensorflow import keras"
   ]
  },
  {
   "cell_type": "code",
   "execution_count": 2,
   "id": "5d041e61",
   "metadata": {},
   "outputs": [],
   "source": [
    "(train_x , train_y) , (test_x , test_y) = keras.datasets.boston_housing.load_data()"
   ]
  },
  {
   "cell_type": "code",
   "execution_count": 3,
   "id": "1a0d1e63",
   "metadata": {},
   "outputs": [],
   "source": [
    "mean = train_x.mean(axis = 0)\n",
    "std = train_x.std(axis = 0)\n",
    "train_x = (train_x - mean) / std\n",
    "test_x = (test_x - mean) / std"
   ]
  },
  {
   "cell_type": "code",
   "execution_count": 4,
   "id": "f527fbac",
   "metadata": {},
   "outputs": [
    {
     "name": "stdout",
     "output_type": "stream",
     "text": [
      "[-0.27224633 -0.48361547 -0.43576161 -0.25683275 -0.1652266  -0.1764426\n",
      "  0.81306188  0.1166983  -0.62624905 -0.59517003  1.14850044  0.44807713\n",
      "  0.8252202 ]\n"
     ]
    }
   ],
   "source": [
    "print(train_x[0])"
   ]
  },
  {
   "cell_type": "code",
   "execution_count": 5,
   "id": "7adbcfb7",
   "metadata": {},
   "outputs": [],
   "source": [
    "model = keras.models.Sequential([\n",
    "    keras.layers.Dense(64 , activation='relu' , input_shape = (train_x.shape[1],)),\n",
    "    keras.layers.Dense(16 , activation='relu'),\n",
    "    keras.layers.Dense(1)\n",
    "])\n",
    "model.compile(optimizer='adam' , loss='mae')"
   ]
  },
  {
   "cell_type": "code",
   "execution_count": 6,
   "id": "a594cba5",
   "metadata": {},
   "outputs": [
    {
     "name": "stdout",
     "output_type": "stream",
     "text": [
      "Epoch 1/100\n",
      "13/13 [==============================] - 0s 2ms/step - loss: 21.9259\n",
      "Epoch 2/100\n",
      "13/13 [==============================] - 0s 1ms/step - loss: 21.2323\n",
      "Epoch 3/100\n",
      "13/13 [==============================] - 0s 1ms/step - loss: 20.4162\n",
      "Epoch 4/100\n",
      "13/13 [==============================] - 0s 2ms/step - loss: 19.4010\n",
      "Epoch 5/100\n",
      "13/13 [==============================] - 0s 2ms/step - loss: 18.1081\n",
      "Epoch 6/100\n",
      "13/13 [==============================] - 0s 2ms/step - loss: 16.5673\n",
      "Epoch 7/100\n",
      "13/13 [==============================] - 0s 1ms/step - loss: 14.8868\n",
      "Epoch 8/100\n",
      "13/13 [==============================] - 0s 2ms/step - loss: 12.8776\n",
      "Epoch 9/100\n",
      "13/13 [==============================] - 0s 1ms/step - loss: 10.3657\n",
      "Epoch 10/100\n",
      "13/13 [==============================] - 0s 1ms/step - loss: 7.6809\n",
      "Epoch 11/100\n",
      "13/13 [==============================] - 0s 2ms/step - loss: 6.3459\n",
      "Epoch 12/100\n",
      "13/13 [==============================] - 0s 1ms/step - loss: 5.6225\n",
      "Epoch 13/100\n",
      "13/13 [==============================] - 0s 1ms/step - loss: 4.9195\n",
      "Epoch 14/100\n",
      "13/13 [==============================] - 0s 2ms/step - loss: 4.3079\n",
      "Epoch 15/100\n",
      "13/13 [==============================] - 0s 2ms/step - loss: 3.8846\n",
      "Epoch 16/100\n",
      "13/13 [==============================] - 0s 2ms/step - loss: 3.6166\n",
      "Epoch 17/100\n",
      "13/13 [==============================] - 0s 2ms/step - loss: 3.4662\n",
      "Epoch 18/100\n",
      "13/13 [==============================] - 0s 2ms/step - loss: 3.3510\n",
      "Epoch 19/100\n",
      "13/13 [==============================] - 0s 1ms/step - loss: 3.2450\n",
      "Epoch 20/100\n",
      "13/13 [==============================] - 0s 1ms/step - loss: 3.1506\n",
      "Epoch 21/100\n",
      "13/13 [==============================] - 0s 2ms/step - loss: 3.0571\n",
      "Epoch 22/100\n",
      "13/13 [==============================] - 0s 2ms/step - loss: 2.9704\n",
      "Epoch 23/100\n",
      "13/13 [==============================] - 0s 2ms/step - loss: 2.8959\n",
      "Epoch 24/100\n",
      "13/13 [==============================] - 0s 2ms/step - loss: 2.8371\n",
      "Epoch 25/100\n",
      "13/13 [==============================] - 0s 2ms/step - loss: 2.7598\n",
      "Epoch 26/100\n",
      "13/13 [==============================] - 0s 1ms/step - loss: 2.7023\n",
      "Epoch 27/100\n",
      "13/13 [==============================] - 0s 1ms/step - loss: 2.6453\n",
      "Epoch 28/100\n",
      "13/13 [==============================] - 0s 1ms/step - loss: 2.6086\n",
      "Epoch 29/100\n",
      "13/13 [==============================] - 0s 2ms/step - loss: 2.5688\n",
      "Epoch 30/100\n",
      "13/13 [==============================] - 0s 2ms/step - loss: 2.5160\n",
      "Epoch 31/100\n",
      "13/13 [==============================] - 0s 1ms/step - loss: 2.4739\n",
      "Epoch 32/100\n",
      "13/13 [==============================] - 0s 1ms/step - loss: 2.4445\n",
      "Epoch 33/100\n",
      "13/13 [==============================] - 0s 2ms/step - loss: 2.4079\n",
      "Epoch 34/100\n",
      "13/13 [==============================] - 0s 2ms/step - loss: 2.3796\n",
      "Epoch 35/100\n",
      "13/13 [==============================] - 0s 2ms/step - loss: 2.3408\n",
      "Epoch 36/100\n",
      "13/13 [==============================] - 0s 1ms/step - loss: 2.3444\n",
      "Epoch 37/100\n",
      "13/13 [==============================] - 0s 1ms/step - loss: 2.3042\n",
      "Epoch 38/100\n",
      "13/13 [==============================] - 0s 2ms/step - loss: 2.3018\n",
      "Epoch 39/100\n",
      "13/13 [==============================] - 0s 1ms/step - loss: 2.2621\n",
      "Epoch 40/100\n",
      "13/13 [==============================] - 0s 2ms/step - loss: 2.2475\n",
      "Epoch 41/100\n",
      "13/13 [==============================] - 0s 2ms/step - loss: 2.2225\n",
      "Epoch 42/100\n",
      "13/13 [==============================] - 0s 2ms/step - loss: 2.1936\n",
      "Epoch 43/100\n",
      "13/13 [==============================] - 0s 2ms/step - loss: 2.1819\n",
      "Epoch 44/100\n",
      "13/13 [==============================] - 0s 2ms/step - loss: 2.1648\n",
      "Epoch 45/100\n",
      "13/13 [==============================] - 0s 2ms/step - loss: 2.1609\n",
      "Epoch 46/100\n",
      "13/13 [==============================] - 0s 1ms/step - loss: 2.1464\n",
      "Epoch 47/100\n",
      "13/13 [==============================] - 0s 2ms/step - loss: 2.1186\n",
      "Epoch 48/100\n",
      "13/13 [==============================] - 0s 2ms/step - loss: 2.1187\n",
      "Epoch 49/100\n",
      "13/13 [==============================] - 0s 1ms/step - loss: 2.0994\n",
      "Epoch 50/100\n",
      "13/13 [==============================] - 0s 1ms/step - loss: 2.0993\n",
      "Epoch 51/100\n",
      "13/13 [==============================] - 0s 1ms/step - loss: 2.0767\n",
      "Epoch 52/100\n",
      "13/13 [==============================] - 0s 1ms/step - loss: 2.0757\n",
      "Epoch 53/100\n",
      "13/13 [==============================] - 0s 2ms/step - loss: 2.0506\n",
      "Epoch 54/100\n",
      "13/13 [==============================] - 0s 2ms/step - loss: 2.0432\n",
      "Epoch 55/100\n",
      "13/13 [==============================] - 0s 1ms/step - loss: 2.0384\n",
      "Epoch 56/100\n",
      "13/13 [==============================] - 0s 2ms/step - loss: 2.0402\n",
      "Epoch 57/100\n",
      "13/13 [==============================] - 0s 1ms/step - loss: 2.0588\n",
      "Epoch 58/100\n",
      "13/13 [==============================] - 0s 2ms/step - loss: 2.0296\n",
      "Epoch 59/100\n",
      "13/13 [==============================] - 0s 2ms/step - loss: 2.0310\n",
      "Epoch 60/100\n",
      "13/13 [==============================] - 0s 2ms/step - loss: 1.9963\n",
      "Epoch 61/100\n",
      "13/13 [==============================] - 0s 1ms/step - loss: 1.9981\n",
      "Epoch 62/100\n",
      "13/13 [==============================] - 0s 2ms/step - loss: 2.0065\n",
      "Epoch 63/100\n",
      "13/13 [==============================] - 0s 1ms/step - loss: 1.9937\n",
      "Epoch 64/100\n",
      "13/13 [==============================] - 0s 2ms/step - loss: 1.9792\n",
      "Epoch 65/100\n",
      "13/13 [==============================] - 0s 2ms/step - loss: 1.9845\n",
      "Epoch 66/100\n",
      "13/13 [==============================] - 0s 2ms/step - loss: 1.9704\n",
      "Epoch 67/100\n",
      "13/13 [==============================] - 0s 1ms/step - loss: 1.9660\n",
      "Epoch 68/100\n",
      "13/13 [==============================] - 0s 2ms/step - loss: 1.9395\n",
      "Epoch 69/100\n",
      "13/13 [==============================] - 0s 1ms/step - loss: 1.9333\n",
      "Epoch 70/100\n",
      "13/13 [==============================] - 0s 1ms/step - loss: 1.9277\n",
      "Epoch 71/100\n",
      "13/13 [==============================] - 0s 2ms/step - loss: 1.9217\n",
      "Epoch 72/100\n",
      "13/13 [==============================] - 0s 1ms/step - loss: 1.9244\n",
      "Epoch 73/100\n",
      "13/13 [==============================] - 0s 1ms/step - loss: 1.9148\n",
      "Epoch 74/100\n",
      "13/13 [==============================] - 0s 2ms/step - loss: 1.9032\n",
      "Epoch 75/100\n",
      "13/13 [==============================] - 0s 1ms/step - loss: 1.9173\n",
      "Epoch 76/100\n",
      "13/13 [==============================] - 0s 2ms/step - loss: 1.8973\n",
      "Epoch 77/100\n",
      "13/13 [==============================] - 0s 2ms/step - loss: 1.8871\n",
      "Epoch 78/100\n",
      "13/13 [==============================] - 0s 1ms/step - loss: 1.8880\n",
      "Epoch 79/100\n",
      "13/13 [==============================] - 0s 1ms/step - loss: 1.8733\n",
      "Epoch 80/100\n",
      "13/13 [==============================] - 0s 1ms/step - loss: 1.8630\n",
      "Epoch 81/100\n",
      "13/13 [==============================] - 0s 1ms/step - loss: 1.8686\n",
      "Epoch 82/100\n",
      "13/13 [==============================] - 0s 1ms/step - loss: 1.8834\n",
      "Epoch 83/100\n",
      "13/13 [==============================] - 0s 2ms/step - loss: 1.8554\n",
      "Epoch 84/100\n",
      "13/13 [==============================] - 0s 2ms/step - loss: 1.8903\n",
      "Epoch 85/100\n",
      "13/13 [==============================] - 0s 1ms/step - loss: 1.8755\n",
      "Epoch 86/100\n",
      "13/13 [==============================] - 0s 1ms/step - loss: 1.8542\n",
      "Epoch 87/100\n",
      "13/13 [==============================] - 0s 2ms/step - loss: 1.8403\n",
      "Epoch 88/100\n",
      "13/13 [==============================] - 0s 1ms/step - loss: 1.8339\n",
      "Epoch 89/100\n",
      "13/13 [==============================] - 0s 850us/step - loss: 1.8460\n",
      "Epoch 90/100\n",
      "13/13 [==============================] - 0s 2ms/step - loss: 1.8402\n",
      "Epoch 91/100\n",
      "13/13 [==============================] - 0s 2ms/step - loss: 1.8418\n",
      "Epoch 92/100\n",
      "13/13 [==============================] - 0s 1ms/step - loss: 1.8323\n",
      "Epoch 93/100\n",
      "13/13 [==============================] - 0s 2ms/step - loss: 1.8175\n",
      "Epoch 94/100\n",
      "13/13 [==============================] - 0s 1ms/step - loss: 1.8130\n",
      "Epoch 95/100\n",
      "13/13 [==============================] - 0s 2ms/step - loss: 1.8152\n",
      "Epoch 96/100\n",
      "13/13 [==============================] - 0s 2ms/step - loss: 1.7988\n",
      "Epoch 97/100\n",
      "13/13 [==============================] - 0s 1ms/step - loss: 1.8002\n",
      "Epoch 98/100\n",
      "13/13 [==============================] - 0s 2ms/step - loss: 1.7906\n",
      "Epoch 99/100\n",
      "13/13 [==============================] - 0s 2ms/step - loss: 1.7898\n",
      "Epoch 100/100\n",
      "13/13 [==============================] - 0s 1ms/step - loss: 1.7906\n"
     ]
    },
    {
     "data": {
      "text/plain": [
       "<keras.callbacks.History at 0x21ffe68fa00>"
      ]
     },
     "execution_count": 6,
     "metadata": {},
     "output_type": "execute_result"
    }
   ],
   "source": [
    "model.fit(train_x , train_y, epochs=100 )"
   ]
  },
  {
   "cell_type": "code",
   "execution_count": 7,
   "id": "1296aa8b",
   "metadata": {},
   "outputs": [
    {
     "name": "stdout",
     "output_type": "stream",
     "text": [
      "4/4 [==============================] - 0s 2ms/step - loss: 2.6858\n"
     ]
    },
    {
     "data": {
      "text/plain": [
       "2.6857826709747314"
      ]
     },
     "execution_count": 7,
     "metadata": {},
     "output_type": "execute_result"
    }
   ],
   "source": [
    "model.evaluate(test_x,test_y)"
   ]
  },
  {
   "cell_type": "code",
   "execution_count": 8,
   "id": "5ae75c40",
   "metadata": {},
   "outputs": [],
   "source": [
    "model.save('boston_housing_model.h5')"
   ]
  },
  {
   "cell_type": "code",
   "execution_count": 9,
   "id": "9bd0ee3e",
   "metadata": {},
   "outputs": [
    {
     "name": "stdout",
     "output_type": "stream",
     "text": [
      "Model: \"sequential\"\n",
      "_________________________________________________________________\n",
      " Layer (type)                Output Shape              Param #   \n",
      "=================================================================\n",
      " dense (Dense)               (None, 64)                896       \n",
      "                                                                 \n",
      " dense_1 (Dense)             (None, 16)                1040      \n",
      "                                                                 \n",
      " dense_2 (Dense)             (None, 1)                 17        \n",
      "                                                                 \n",
      "=================================================================\n",
      "Total params: 1,953\n",
      "Trainable params: 1,953\n",
      "Non-trainable params: 0\n",
      "_________________________________________________________________\n"
     ]
    }
   ],
   "source": [
    "model.summary()"
   ]
  },
  {
   "cell_type": "code",
   "execution_count": 10,
   "id": "2358aaa0",
   "metadata": {},
   "outputs": [],
   "source": [
    "model = keras.models.load_model('boston_housing_model.h5')"
   ]
  },
  {
   "cell_type": "code",
   "execution_count": null,
   "id": "0745bcd1",
   "metadata": {},
   "outputs": [],
   "source": []
  }
 ],
 "metadata": {
  "kernelspec": {
   "display_name": "keras",
   "language": "python",
   "name": "keras"
  },
  "language_info": {
   "codemirror_mode": {
    "name": "ipython",
    "version": 3
   },
   "file_extension": ".py",
   "mimetype": "text/x-python",
   "name": "python",
   "nbconvert_exporter": "python",
   "pygments_lexer": "ipython3",
   "version": "3.9.9"
  }
 },
 "nbformat": 4,
 "nbformat_minor": 5
}
