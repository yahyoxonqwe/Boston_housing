{
 "cells": [
  {
   "cell_type": "code",
   "execution_count": 1,
   "id": "47dc9fe3",
   "metadata": {},
   "outputs": [],
   "source": [
    "from tensorflow import keras"
   ]
  },
  {
   "cell_type": "code",
   "execution_count": 2,
   "id": "5d041e61",
   "metadata": {},
   "outputs": [],
   "source": [
    "(train_x , train_y) , (test_x , test_y) = keras.datasets.boston_housing.load_data()"
   ]
  },
  {
   "cell_type": "code",
   "execution_count": 3,
   "id": "1a0d1e63",
   "metadata": {},
   "outputs": [],
   "source": [
    "mean = train_x.mean(axis = 0)\n",
    "std = train_x.std(axis = 0)\n",
    "train_x = (train_x - mean) / std\n",
    "test_x = (test_x - mean) / std"
   ]
  },
  {
   "cell_type": "code",
   "execution_count": 4,
   "id": "7adbcfb7",
   "metadata": {},
   "outputs": [],
   "source": [
    "model = keras.models.Sequential([\n",
    "    keras.layers.Dense(64 , activation='relu' , input_shape = (train_x.shape[1],)),\n",
    "    keras.layers.Dense(16 , activation='relu'),\n",
    "    keras.layers.Dense(1)\n",
    "])\n",
    "model.compile(optimizer='adam' , loss='mse' )"
   ]
  },
  {
   "cell_type": "code",
   "execution_count": 5,
   "id": "a594cba5",
   "metadata": {},
   "outputs": [
    {
     "name": "stdout",
     "output_type": "stream",
     "text": [
      "Epoch 1/100\n",
      "13/13 [==============================] - 0s 2ms/step - loss: 574.5446\n",
      "Epoch 2/100\n",
      "13/13 [==============================] - 0s 1ms/step - loss: 542.9186\n",
      "Epoch 3/100\n",
      "13/13 [==============================] - 0s 1ms/step - loss: 506.2981\n",
      "Epoch 4/100\n",
      "13/13 [==============================] - 0s 2ms/step - loss: 459.9036\n",
      "Epoch 5/100\n",
      "13/13 [==============================] - 0s 2ms/step - loss: 401.7018\n",
      "Epoch 6/100\n",
      "13/13 [==============================] - 0s 2ms/step - loss: 331.4179\n",
      "Epoch 7/100\n",
      "13/13 [==============================] - 0s 1ms/step - loss: 252.9934\n",
      "Epoch 8/100\n",
      "13/13 [==============================] - 0s 1ms/step - loss: 178.5941\n",
      "Epoch 9/100\n",
      "13/13 [==============================] - 0s 1ms/step - loss: 118.6549\n",
      "Epoch 10/100\n",
      "13/13 [==============================] - 0s 1ms/step - loss: 81.4135\n",
      "Epoch 11/100\n",
      "13/13 [==============================] - 0s 2ms/step - loss: 62.0306\n",
      "Epoch 12/100\n",
      "13/13 [==============================] - 0s 2ms/step - loss: 50.9079\n",
      "Epoch 13/100\n",
      "13/13 [==============================] - 0s 2ms/step - loss: 42.2800\n",
      "Epoch 14/100\n",
      "13/13 [==============================] - 0s 2ms/step - loss: 36.0398\n",
      "Epoch 15/100\n",
      "13/13 [==============================] - 0s 2ms/step - loss: 31.7714\n",
      "Epoch 16/100\n",
      "13/13 [==============================] - 0s 2ms/step - loss: 28.8028\n",
      "Epoch 17/100\n",
      "13/13 [==============================] - 0s 2ms/step - loss: 26.5191\n",
      "Epoch 18/100\n",
      "13/13 [==============================] - 0s 2ms/step - loss: 24.9511\n",
      "Epoch 19/100\n",
      "13/13 [==============================] - 0s 2ms/step - loss: 23.6536\n",
      "Epoch 20/100\n",
      "13/13 [==============================] - 0s 1ms/step - loss: 22.5863\n",
      "Epoch 21/100\n",
      "13/13 [==============================] - 0s 2ms/step - loss: 21.8075\n",
      "Epoch 22/100\n",
      "13/13 [==============================] - 0s 2ms/step - loss: 21.1308\n",
      "Epoch 23/100\n",
      "13/13 [==============================] - 0s 2ms/step - loss: 20.3616\n",
      "Epoch 24/100\n",
      "13/13 [==============================] - 0s 2ms/step - loss: 19.8032\n",
      "Epoch 25/100\n",
      "13/13 [==============================] - 0s 2ms/step - loss: 19.2363\n",
      "Epoch 26/100\n",
      "13/13 [==============================] - 0s 2ms/step - loss: 18.6965\n",
      "Epoch 27/100\n",
      "13/13 [==============================] - 0s 2ms/step - loss: 18.1862\n",
      "Epoch 28/100\n",
      "13/13 [==============================] - 0s 2ms/step - loss: 17.6771\n",
      "Epoch 29/100\n",
      "13/13 [==============================] - 0s 2ms/step - loss: 17.2192\n",
      "Epoch 30/100\n",
      "13/13 [==============================] - 0s 2ms/step - loss: 16.7419\n",
      "Epoch 31/100\n",
      "13/13 [==============================] - 0s 1ms/step - loss: 16.3335\n",
      "Epoch 32/100\n",
      "13/13 [==============================] - 0s 1ms/step - loss: 15.8788\n",
      "Epoch 33/100\n",
      "13/13 [==============================] - 0s 2ms/step - loss: 15.4632\n",
      "Epoch 34/100\n",
      "13/13 [==============================] - 0s 2ms/step - loss: 15.1150\n",
      "Epoch 35/100\n",
      "13/13 [==============================] - 0s 2ms/step - loss: 14.7342\n",
      "Epoch 36/100\n",
      "13/13 [==============================] - 0s 2ms/step - loss: 14.3032\n",
      "Epoch 37/100\n",
      "13/13 [==============================] - 0s 2ms/step - loss: 13.9729\n",
      "Epoch 38/100\n",
      "13/13 [==============================] - 0s 1ms/step - loss: 13.6746\n",
      "Epoch 39/100\n",
      "13/13 [==============================] - 0s 2ms/step - loss: 13.3777\n",
      "Epoch 40/100\n",
      "13/13 [==============================] - 0s 1ms/step - loss: 13.0705\n",
      "Epoch 41/100\n",
      "13/13 [==============================] - 0s 2ms/step - loss: 12.7644\n",
      "Epoch 42/100\n",
      "13/13 [==============================] - 0s 2ms/step - loss: 12.5098\n",
      "Epoch 43/100\n",
      "13/13 [==============================] - 0s 2ms/step - loss: 12.2146\n",
      "Epoch 44/100\n",
      "13/13 [==============================] - 0s 1ms/step - loss: 12.0301\n",
      "Epoch 45/100\n",
      "13/13 [==============================] - 0s 2ms/step - loss: 11.7787\n",
      "Epoch 46/100\n",
      "13/13 [==============================] - 0s 2ms/step - loss: 11.5789\n",
      "Epoch 47/100\n",
      "13/13 [==============================] - 0s 2ms/step - loss: 11.4224\n",
      "Epoch 48/100\n",
      "13/13 [==============================] - 0s 2ms/step - loss: 11.1847\n",
      "Epoch 49/100\n",
      "13/13 [==============================] - 0s 2ms/step - loss: 10.9968\n",
      "Epoch 50/100\n",
      "13/13 [==============================] - 0s 2ms/step - loss: 10.7970\n",
      "Epoch 51/100\n",
      "13/13 [==============================] - 0s 2ms/step - loss: 10.6397\n",
      "Epoch 52/100\n",
      "13/13 [==============================] - 0s 2ms/step - loss: 10.5126\n",
      "Epoch 53/100\n",
      "13/13 [==============================] - 0s 2ms/step - loss: 10.3764\n",
      "Epoch 54/100\n",
      "13/13 [==============================] - 0s 2ms/step - loss: 10.1815\n",
      "Epoch 55/100\n",
      "13/13 [==============================] - 0s 1ms/step - loss: 10.1171\n",
      "Epoch 56/100\n",
      "13/13 [==============================] - 0s 2ms/step - loss: 9.9472\n",
      "Epoch 57/100\n",
      "13/13 [==============================] - 0s 1ms/step - loss: 9.8577\n",
      "Epoch 58/100\n",
      "13/13 [==============================] - 0s 1ms/step - loss: 9.7663\n",
      "Epoch 59/100\n",
      "13/13 [==============================] - 0s 1ms/step - loss: 9.6837\n",
      "Epoch 60/100\n",
      "13/13 [==============================] - 0s 1ms/step - loss: 9.6821\n",
      "Epoch 61/100\n",
      "13/13 [==============================] - 0s 1ms/step - loss: 9.5286\n",
      "Epoch 62/100\n",
      "13/13 [==============================] - 0s 1ms/step - loss: 9.4273\n",
      "Epoch 63/100\n",
      "13/13 [==============================] - 0s 1ms/step - loss: 9.3392\n",
      "Epoch 64/100\n",
      "13/13 [==============================] - 0s 1ms/step - loss: 9.3684\n",
      "Epoch 65/100\n",
      "13/13 [==============================] - 0s 2ms/step - loss: 9.3102\n",
      "Epoch 66/100\n",
      "13/13 [==============================] - 0s 1ms/step - loss: 9.1215\n",
      "Epoch 67/100\n",
      "13/13 [==============================] - 0s 1ms/step - loss: 9.0657\n",
      "Epoch 68/100\n",
      "13/13 [==============================] - 0s 2ms/step - loss: 9.0682\n",
      "Epoch 69/100\n",
      "13/13 [==============================] - 0s 1ms/step - loss: 8.8666\n",
      "Epoch 70/100\n",
      "13/13 [==============================] - 0s 1ms/step - loss: 8.8848\n",
      "Epoch 71/100\n",
      "13/13 [==============================] - 0s 1ms/step - loss: 8.8199\n",
      "Epoch 72/100\n",
      "13/13 [==============================] - 0s 1ms/step - loss: 8.8039\n",
      "Epoch 73/100\n",
      "13/13 [==============================] - 0s 2ms/step - loss: 8.6792\n",
      "Epoch 74/100\n",
      "13/13 [==============================] - 0s 1ms/step - loss: 8.6645\n",
      "Epoch 75/100\n",
      "13/13 [==============================] - 0s 1ms/step - loss: 8.6403\n",
      "Epoch 76/100\n",
      "13/13 [==============================] - 0s 2ms/step - loss: 8.6080\n",
      "Epoch 77/100\n",
      "13/13 [==============================] - 0s 1ms/step - loss: 8.5649\n",
      "Epoch 78/100\n",
      "13/13 [==============================] - 0s 1ms/step - loss: 8.4855\n",
      "Epoch 79/100\n",
      "13/13 [==============================] - 0s 1ms/step - loss: 8.4301\n",
      "Epoch 80/100\n",
      "13/13 [==============================] - 0s 2ms/step - loss: 8.4460\n",
      "Epoch 81/100\n",
      "13/13 [==============================] - 0s 1ms/step - loss: 8.3756\n",
      "Epoch 82/100\n",
      "13/13 [==============================] - 0s 1ms/step - loss: 8.3375\n",
      "Epoch 83/100\n",
      "13/13 [==============================] - 0s 1ms/step - loss: 8.3356\n",
      "Epoch 84/100\n",
      "13/13 [==============================] - 0s 2ms/step - loss: 8.2722\n",
      "Epoch 85/100\n",
      "13/13 [==============================] - 0s 2ms/step - loss: 8.2096\n",
      "Epoch 86/100\n",
      "13/13 [==============================] - 0s 1ms/step - loss: 8.2272\n",
      "Epoch 87/100\n",
      "13/13 [==============================] - 0s 1ms/step - loss: 8.1473\n",
      "Epoch 88/100\n",
      "13/13 [==============================] - 0s 1ms/step - loss: 8.1010\n",
      "Epoch 89/100\n",
      "13/13 [==============================] - 0s 1ms/step - loss: 8.0669\n",
      "Epoch 90/100\n",
      "13/13 [==============================] - 0s 2ms/step - loss: 8.0430\n",
      "Epoch 91/100\n",
      "13/13 [==============================] - 0s 1ms/step - loss: 7.9862\n",
      "Epoch 92/100\n",
      "13/13 [==============================] - 0s 1ms/step - loss: 7.9463\n",
      "Epoch 93/100\n",
      "13/13 [==============================] - 0s 1ms/step - loss: 7.9314\n",
      "Epoch 94/100\n",
      "13/13 [==============================] - 0s 2ms/step - loss: 7.8692\n",
      "Epoch 95/100\n",
      "13/13 [==============================] - 0s 1ms/step - loss: 7.8853\n",
      "Epoch 96/100\n",
      "13/13 [==============================] - 0s 1ms/step - loss: 7.8614\n",
      "Epoch 97/100\n",
      "13/13 [==============================] - 0s 1ms/step - loss: 7.8656\n",
      "Epoch 98/100\n",
      "13/13 [==============================] - 0s 1ms/step - loss: 7.7239\n",
      "Epoch 99/100\n",
      "13/13 [==============================] - 0s 1ms/step - loss: 7.6964\n",
      "Epoch 100/100\n",
      "13/13 [==============================] - 0s 2ms/step - loss: 7.7339\n"
     ]
    },
    {
     "data": {
      "text/plain": [
       "<keras.callbacks.History at 0x1e323b3c670>"
      ]
     },
     "execution_count": 5,
     "metadata": {},
     "output_type": "execute_result"
    }
   ],
   "source": [
    "model.fit(train_x , train_y,batch_size=32 , epochs=100 )"
   ]
  },
  {
   "cell_type": "code",
   "execution_count": 6,
   "id": "1296aa8b",
   "metadata": {},
   "outputs": [
    {
     "name": "stdout",
     "output_type": "stream",
     "text": [
      "4/4 [==============================] - 0s 2ms/step - loss: 21.3257\n"
     ]
    },
    {
     "data": {
      "text/plain": [
       "21.325674057006836"
      ]
     },
     "execution_count": 6,
     "metadata": {},
     "output_type": "execute_result"
    }
   ],
   "source": [
    "model.evaluate(test_x,test_y)"
   ]
  },
  {
   "cell_type": "code",
   "execution_count": 7,
   "id": "5ae75c40",
   "metadata": {},
   "outputs": [],
   "source": [
    "model.save('boston_housing_model.h5')"
   ]
  },
  {
   "cell_type": "code",
   "execution_count": 8,
   "id": "9bd0ee3e",
   "metadata": {},
   "outputs": [
    {
     "name": "stdout",
     "output_type": "stream",
     "text": [
      "Model: \"sequential\"\n",
      "_________________________________________________________________\n",
      " Layer (type)                Output Shape              Param #   \n",
      "=================================================================\n",
      " dense (Dense)               (None, 64)                896       \n",
      "                                                                 \n",
      " dense_1 (Dense)             (None, 16)                1040      \n",
      "                                                                 \n",
      " dense_2 (Dense)             (None, 1)                 17        \n",
      "                                                                 \n",
      "=================================================================\n",
      "Total params: 1,953\n",
      "Trainable params: 1,953\n",
      "Non-trainable params: 0\n",
      "_________________________________________________________________\n"
     ]
    }
   ],
   "source": [
    "model.summary()"
   ]
  },
  {
   "cell_type": "code",
   "execution_count": null,
   "id": "2358aaa0",
   "metadata": {},
   "outputs": [],
   "source": [
    "model.load_model"
   ]
  }
 ],
 "metadata": {
  "kernelspec": {
   "display_name": "keras",
   "language": "python",
   "name": "keras"
  },
  "language_info": {
   "codemirror_mode": {
    "name": "ipython",
    "version": 3
   },
   "file_extension": ".py",
   "mimetype": "text/x-python",
   "name": "python",
   "nbconvert_exporter": "python",
   "pygments_lexer": "ipython3",
   "version": "3.9.9"
  }
 },
 "nbformat": 4,
 "nbformat_minor": 5
}
